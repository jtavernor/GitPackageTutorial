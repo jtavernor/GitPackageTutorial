{
 "cells": [
  {
   "cell_type": "markdown",
   "metadata": {},
   "source": [
    "## Recommended - SSH key\n",
    "I would recommend setting up an SSH key on github so you can use github from your commandline without having to login each time. \n",
    "https://docs.github.com/en/authentication/connecting-to-github-with-ssh/adding-a-new-ssh-key-to-your-github-account\n",
    "\n",
    "I would also recommend if you do this, using the ssh key from your local machine and then editing your ssh config to forward your SSH agent. This way when you use git on lab machines you are SSH'd into, it will forward the key over ssh to authenticate with github. \n",
    "\n",
    "I am not sure if this is supported over https, there is syntax but when I tried I got an error about being unsupported. \n",
    "\n",
    "## Syntax for installing pip package from github\n",
    "### Over https\n",
    "pip install -e \"git+https://git.repo/some_repo.git#egg=$NAME_OF_PACKAGE&subdirectory=$SUBDIR_IN_REPO\" # install a python package from a repo subdirectory\n",
    "\n",
    "### Over SSH\n",
    "pip install \"git+ssh://git@github.com/$USERNAME/$REPO.git#egg=$NAME_OF_PACKAGE&subdirectory=$SUBDIR_IN_REPO\" # install a python package from a repo subdirectory\n",
    "\n",
    "I will be using SSH throughout. \n",
    "\n",
    "Specific commits/branches can be accessed by adding @[commit-sha|branch name|tag name|etc.]\n"
   ]
  },
  {
   "cell_type": "markdown",
   "metadata": {},
   "source": [
    "# Basic package\n",
    "For this step the install command will be: "
   ]
  },
  {
   "cell_type": "markdown",
   "metadata": {},
   "source": [
    "pip install \"git+ssh://git@github.com/jtavernor/GitPackageTutorial.git@5c3c3eeb823b01fbd4ee658a205c17c0e8db6541\""
   ]
  },
  {
   "cell_type": "code",
   "execution_count": 2,
   "metadata": {},
   "outputs": [],
   "source": [
    "from GitTutorial import my_func"
   ]
  },
  {
   "cell_type": "code",
   "execution_count": 3,
   "metadata": {},
   "outputs": [
    {
     "name": "stdout",
     "output_type": "stream",
     "text": [
      "Successfully installed basic package\n"
     ]
    }
   ],
   "source": [
    "my_func()"
   ]
  },
  {
   "cell_type": "markdown",
   "metadata": {},
   "source": [
    "# Basic dependency"
   ]
  },
  {
   "cell_type": "markdown",
   "metadata": {},
   "source": [
    "pip install \"git+ssh://git@github.com/jtavernor/GitPackageTutorial.git@ec134553efbf5224c2f4b068ffb9085ca14b0b3e\""
   ]
  },
  {
   "cell_type": "code",
   "execution_count": null,
   "metadata": {},
   "outputs": [],
   "source": [
    "from GitTutorial import my_func"
   ]
  },
  {
   "cell_type": "code",
   "execution_count": null,
   "metadata": {},
   "outputs": [],
   "source": [
    "my_func()"
   ]
  },
  {
   "cell_type": "markdown",
   "metadata": {},
   "source": [
    "# Fixed environment"
   ]
  },
  {
   "cell_type": "markdown",
   "metadata": {},
   "source": [
    "pip install \"git+ssh://git@github.com/jtavernor/GitPackageTutorial.git@f1e5d08e1daa42593411f14f19f665ef30051222\""
   ]
  },
  {
   "cell_type": "code",
   "execution_count": 1,
   "metadata": {},
   "outputs": [],
   "source": [
    "from GitTutorial import my_func_np, my_func_torch"
   ]
  },
  {
   "cell_type": "code",
   "execution_count": 2,
   "metadata": {},
   "outputs": [
    {
     "name": "stdout",
     "output_type": "stream",
     "text": [
      "Successfully installed package with fixed environment\n",
      "Using numpy: 7\n"
     ]
    }
   ],
   "source": [
    "my_func_np()"
   ]
  },
  {
   "cell_type": "code",
   "execution_count": 3,
   "metadata": {},
   "outputs": [
    {
     "name": "stdout",
     "output_type": "stream",
     "text": [
      "Successfully installed package with fixed environment\n",
      "PyTorch was installed with cuda?: True\n",
      "Using torch: tensor([9])\n"
     ]
    }
   ],
   "source": [
    "my_func_torch()"
   ]
  },
  {
   "cell_type": "markdown",
   "metadata": {},
   "source": [
    "# Adding a basic config"
   ]
  },
  {
   "cell_type": "markdown",
   "metadata": {},
   "source": [
    "pip install \"git+ssh://git@github.com/jtavernor/GitPackageTutorial.git@05d00196d0582da459bcbd6d4bc9b1201a4e8190\""
   ]
  },
  {
   "cell_type": "code",
   "execution_count": 1,
   "metadata": {},
   "outputs": [],
   "source": [
    "from GitTutorial import my_func"
   ]
  },
  {
   "cell_type": "code",
   "execution_count": 2,
   "metadata": {},
   "outputs": [
    {
     "name": "stdout",
     "output_type": "stream",
     "text": [
      "Successfully installed package with fixed environment\n",
      "PyTorch was installed with cuda?: True\n",
      "Using torch: tensor([2])\n"
     ]
    }
   ],
   "source": [
    "my_func()"
   ]
  },
  {
   "cell_type": "markdown",
   "metadata": {},
   "source": [
    "Now the config can be edited inside the venv"
   ]
  },
  {
   "cell_type": "markdown",
   "metadata": {},
   "source": [
    "# When the package needs changing\n",
    "If you want to make edits to a package that might break current usage, you can create a new branch on the repository and install that package by appending @[branch name] to the git link"
   ]
  },
  {
   "cell_type": "markdown",
   "metadata": {},
   "source": [
    "pip install \"git+ssh://git@github.com/jtavernor/GitPackageTutorial.git@new_config\""
   ]
  },
  {
   "cell_type": "code",
   "execution_count": 1,
   "metadata": {},
   "outputs": [],
   "source": [
    "from GitTutorial import my_func"
   ]
  },
  {
   "cell_type": "code",
   "execution_count": 2,
   "metadata": {},
   "outputs": [
    {
     "name": "stdout",
     "output_type": "stream",
     "text": [
      "Successfully installed package with fixed environment\n",
      "Using numpy: 8\n"
     ]
    }
   ],
   "source": [
    "my_func()"
   ]
  },
  {
   "cell_type": "markdown",
   "metadata": {},
   "source": [
    "Now the config can be edited in the current working directory"
   ]
  },
  {
   "cell_type": "markdown",
   "metadata": {},
   "source": [
    "# When the repository is more than just a package\n",
    "Sometimes you might want to have examples, tests, additional information, etc. for a package. In this case we can specify which subdirectory inside the repository should be used for "
   ]
  },
  {
   "cell_type": "markdown",
   "metadata": {},
   "source": [
    "Recall original syntax: \n",
    "\n",
    "pip install \"git+ssh://git@github.com/$USERNAME/$REPO.git#egg=$NAME_OF_PACKAGE&subdirectory=$SUBDIR_IN_REPO\" # install a python package from a repo subdirectory\n",
    "\n",
    "Since egg isn't necessary the install in this case will be:"
   ]
  },
  {
   "cell_type": "markdown",
   "metadata": {},
   "source": [
    "pip install \"git+ssh://git@github.com/jtavernor/GitPackageTutorial.git@sub_directory#subdirectory=src\""
   ]
  },
  {
   "cell_type": "code",
   "execution_count": null,
   "metadata": {},
   "outputs": [],
   "source": [
    "from GitTutorial import my_func"
   ]
  },
  {
   "cell_type": "code",
   "execution_count": null,
   "metadata": {},
   "outputs": [],
   "source": [
    "my_func()"
   ]
  },
  {
   "cell_type": "markdown",
   "metadata": {},
   "source": [
    "Now the config can be edited inside the venv"
   ]
  },
  {
   "cell_type": "markdown",
   "metadata": {},
   "source": [
    "# Local editable package\n",
    "You can install these github packages so that they're \"editable\" according to pip. When you change the local files changes are reflected correctly in python. \n",
    "\n",
    "This seems less useful to me than doing a git clone + local editable install, as this is much easier to work with. "
   ]
  },
  {
   "cell_type": "code",
   "execution_count": 1,
   "metadata": {},
   "outputs": [],
   "source": [
    "from GitTutorial import my_func"
   ]
  },
  {
   "cell_type": "code",
   "execution_count": 2,
   "metadata": {},
   "outputs": [
    {
     "name": "stdout",
     "output_type": "stream",
     "text": [
      "Successfully installed package with fixed environment allows editing\n",
      "Using numpy: 4\n"
     ]
    }
   ],
   "source": [
    "my_func()"
   ]
  },
  {
   "cell_type": "markdown",
   "metadata": {},
   "source": [
    "Now we can edit the local install and see changes reflected without having to reinstall"
   ]
  }
 ],
 "metadata": {
  "kernelspec": {
   "display_name": ".venv",
   "language": "python",
   "name": "python3"
  },
  "language_info": {
   "codemirror_mode": {
    "name": "ipython",
    "version": 3
   },
   "file_extension": ".py",
   "mimetype": "text/x-python",
   "name": "python",
   "nbconvert_exporter": "python",
   "pygments_lexer": "ipython3",
   "version": "3.10.12"
  }
 },
 "nbformat": 4,
 "nbformat_minor": 2
}
